{
 "cells": [
  {
   "cell_type": "code",
   "execution_count": 1,
   "id": "5a568cb2",
   "metadata": {},
   "outputs": [],
   "source": [
    "import pandas as pd\n",
    "import numpy as np\n",
    "import seaborn as sns\n",
    "import matplotlib.pyplot as plt\n",
    "%matplotlib inline"
   ]
  },
  {
   "cell_type": "code",
   "execution_count": 2,
   "id": "c0eae7b9",
   "metadata": {},
   "outputs": [],
   "source": [
    "df=pd.read_csv('IPL_Dataset.csv')"
   ]
  },
  {
   "cell_type": "code",
   "execution_count": 3,
   "id": "fccb21a8",
   "metadata": {},
   "outputs": [
    {
     "data": {
      "text/plain": [
       "Index(['match_id', 'inning', 'batting_team', 'bowling_team', 'over', 'ball',\n",
       "       'batsman', 'non_striker', 'bowler', 'is_super_over', 'wide_runs',\n",
       "       'bye_runs', 'legbye_runs', 'noball_runs', 'penalty_runs',\n",
       "       'batsman_runs', 'extra_runs', 'total_runs', 'player_dismissed',\n",
       "       'dismissal_kind', 'fielder'],\n",
       "      dtype='object')"
      ]
     },
     "execution_count": 3,
     "metadata": {},
     "output_type": "execute_result"
    }
   ],
   "source": [
    "df.columns"
   ]
  },
  {
   "cell_type": "code",
   "execution_count": 4,
   "id": "33fef47a",
   "metadata": {},
   "outputs": [
    {
     "data": {
      "text/plain": [
       "batting_team\n",
       "Chennai Super Kings            20899\n",
       "Deccan Chargers                11463\n",
       "Delhi Daredevils               21953\n",
       "Gujarat Lions                   4862\n",
       "Kings XI Punjab                23068\n",
       "Kochi Tuskers Kerala            1901\n",
       "Kolkata Knight Riders          21965\n",
       "Mumbai Indians                 24521\n",
       "Pune Warriors                   6358\n",
       "Rajasthan Royals               17703\n",
       "Rising Pune Supergiant          2470\n",
       "Rising Pune Supergiants         2063\n",
       "Royal Challengers Bangalore    23436\n",
       "Sunrisers Hyderabad            11652\n",
       "Name: total_runs, dtype: int64"
      ]
     },
     "execution_count": 4,
     "metadata": {},
     "output_type": "execute_result"
    }
   ],
   "source": [
    "#1. What is the total number of runs scored by each batting team?\n",
    "df.groupby(by='batting_team')['total_runs'].sum()"
   ]
  },
  {
   "cell_type": "code",
   "execution_count": 5,
   "id": "a3273d9d",
   "metadata": {},
   "outputs": [
    {
     "data": {
      "text/plain": [
       "bowling_team\n",
       "Chennai Super Kings            526\n",
       "Deccan Chargers                328\n",
       "Delhi Daredevils               614\n",
       "Gujarat Lions                  107\n",
       "Kings XI Punjab                668\n",
       "Kochi Tuskers Kerala            56\n",
       "Kolkata Knight Riders          658\n",
       "Mumbai Indians                 786\n",
       "Pune Warriors                  174\n",
       "Rajasthan Royals               586\n",
       "Rising Pune Supergiant          69\n",
       "Rising Pune Supergiants         77\n",
       "Royal Challengers Bangalore    725\n",
       "Sunrisers Hyderabad            268\n",
       "Name: wide_runs, dtype: int64"
      ]
     },
     "execution_count": 5,
     "metadata": {},
     "output_type": "execute_result"
    }
   ],
   "source": [
    "#2. How many wides have been bowled by each bowling team?\n",
    "df.groupby(by='bowling_team')['wide_runs'].sum()"
   ]
  },
  {
   "cell_type": "code",
   "execution_count": 7,
   "id": "65ce2c1c",
   "metadata": {},
   "outputs": [
    {
     "data": {
      "text/plain": [
       "batting_team\n",
       "Chennai Super Kings            1.326584\n",
       "Deccan Chargers                1.268873\n",
       "Delhi Daredevils               1.277451\n",
       "Gujarat Lions                  1.363432\n",
       "Kings XI Punjab                1.311129\n",
       "Kochi Tuskers Kerala           1.201643\n",
       "Kolkata Knight Riders          1.274885\n",
       "Mumbai Indians                 1.294462\n",
       "Pune Warriors                  1.168106\n",
       "Rajasthan Royals               1.272316\n",
       "Rising Pune Supergiant         1.300000\n",
       "Rising Pune Supergiants        1.305696\n",
       "Royal Challengers Bangalore    1.325716\n",
       "Sunrisers Hyderabad            1.286377\n",
       "Name: total_runs, dtype: float64"
      ]
     },
     "execution_count": 7,
     "metadata": {},
     "output_type": "execute_result"
    }
   ],
   "source": [
    "#3. What is the average number of runs scored per inning by each team?\n",
    "#df.groupby(by='inning')['total_runs'].mean()\n",
    "df.groupby(by='batting_team')['total_runs'].mean()"
   ]
  },
  {
   "cell_type": "code",
   "execution_count": 11,
   "id": "c78d5e00",
   "metadata": {},
   "outputs": [
    {
     "data": {
      "text/plain": [
       "'SK Raina'"
      ]
     },
     "execution_count": 11,
     "metadata": {},
     "output_type": "execute_result"
    }
   ],
   "source": [
    "#4. Which batsman has scored the highest number of runs?\n",
    "#df.groupby(by='batsman')['batsman_runs'].max().sort_values(ascending=False).head(1)\n",
    "df.groupby(by='batsman')['batsman_runs'].sum().sort_values(ascending=False).head(1)\n",
    "df.groupby(by='batsman')['batsman_runs'].sum().idxmax()"
   ]
  },
  {
   "cell_type": "code",
   "execution_count": 14,
   "id": "146d437c",
   "metadata": {},
   "outputs": [
    {
     "data": {
      "text/plain": [
       "dismissal_kind\n",
       "bowled                   1382\n",
       "caught                   4373\n",
       "caught and bowled         211\n",
       "hit wicket                  9\n",
       "lbw                       455\n",
       "obstructing the field       1\n",
       "retired hurt                9\n",
       "run out                   755\n",
       "stumped                   243\n",
       "dtype: int64"
      ]
     },
     "execution_count": 14,
     "metadata": {},
     "output_type": "execute_result"
    }
   ],
   "source": [
    "#5. How many dismissals have occurred of each dismissal kind?\n",
    "#df['dismissal_kind'].value_counts()\n",
    "df.groupby('dismissal_kind').size()"
   ]
  },
  {
   "cell_type": "code",
   "execution_count": 15,
   "id": "a36bf689",
   "metadata": {},
   "outputs": [
    {
     "data": {
      "text/plain": [
       "over\n",
       "1      7733\n",
       "2      8993\n",
       "3      9852\n",
       "4     10207\n",
       "5     10227\n",
       "6     10397\n",
       "7      8413\n",
       "8      8966\n",
       "9      9247\n",
       "10     9047\n",
       "11     9456\n",
       "12     9694\n",
       "13     9713\n",
       "14     9900\n",
       "15    10240\n",
       "16    10397\n",
       "17    10817\n",
       "18    10899\n",
       "19    10469\n",
       "20     9647\n",
       "Name: total_runs, dtype: int64"
      ]
     },
     "execution_count": 15,
     "metadata": {},
     "output_type": "execute_result"
    }
   ],
   "source": [
    "#6. What is the total runs scored by each over?\n",
    "df.groupby(by='over')['total_runs'].sum()\n"
   ]
  },
  {
   "cell_type": "code",
   "execution_count": 26,
   "id": "9a212b44",
   "metadata": {},
   "outputs": [
    {
     "data": {
      "text/plain": [
       "bowler\n",
       "SL Malinga    170\n",
       "dtype: int64"
      ]
     },
     "execution_count": 26,
     "metadata": {},
     "output_type": "execute_result"
    }
   ],
   "source": [
    "7#. Which bowler has taken the most wickets?\n",
    "#df.columns\n",
    "#df.groupby(by='bowler')['dismissal_kind'].value_counts()\n",
    "df[df['dismissal_kind'].notnull()].groupby('bowler').size().sort_values(ascending=False).head(1) #ANSWER"
   ]
  },
  {
   "cell_type": "code",
   "execution_count": 30,
   "id": "44516901",
   "metadata": {},
   "outputs": [
    {
     "data": {
      "text/plain": [
       "81"
      ]
     },
     "execution_count": 30,
     "metadata": {},
     "output_type": "execute_result"
    }
   ],
   "source": [
    "#8. How many super overs have been played in total?\n",
    "df['is_super_over'].sum()"
   ]
  },
  {
   "cell_type": "code",
   "execution_count": 5,
   "id": "7761ad8a",
   "metadata": {},
   "outputs": [
    {
     "ename": "ValueError",
     "evalue": "Cannot subset columns with a tuple with more than one element. Use a list instead.",
     "output_type": "error",
     "traceback": [
      "\u001b[1;31m---------------------------------------------------------------------------\u001b[0m",
      "\u001b[1;31mValueError\u001b[0m                                Traceback (most recent call last)",
      "Cell \u001b[1;32mIn[5], line 7\u001b[0m\n\u001b[0;32m      1\u001b[0m \u001b[38;5;66;03m#9. What is the average number of extras (wide runs,bye runs,\u001b[39;00m\n\u001b[0;32m      2\u001b[0m \u001b[38;5;66;03m# legbye runs, noball runs, penalty runs)\u001b[39;00m\n\u001b[0;32m      3\u001b[0m \u001b[38;5;66;03m# conceded per inning by each bowling team?\u001b[39;00m\n\u001b[0;32m      4\u001b[0m \u001b[38;5;66;03m# df.groupby(by='bowling_team')[['wide_runs','bye_runs', 'legbye_runs', 'noball_runs', 'penalty_runs']].sum()\u001b[39;00m\n\u001b[0;32m      5\u001b[0m \u001b[38;5;66;03m# df.groupby('bowling_team')['wide_runs','bye_runs', 'legbye_runs', 'noball_runs', 'penalty_runs'].sum().mean(axis=1)\u001b[39;00m\n\u001b[1;32m----> 7\u001b[0m df\u001b[38;5;241m.\u001b[39mgroupby(\u001b[38;5;124m'\u001b[39m\u001b[38;5;124mbowling_team\u001b[39m\u001b[38;5;124m'\u001b[39m)[\u001b[38;5;124m'\u001b[39m\u001b[38;5;124mwide_runs\u001b[39m\u001b[38;5;124m'\u001b[39m, \u001b[38;5;124m'\u001b[39m\u001b[38;5;124mbye_runs\u001b[39m\u001b[38;5;124m'\u001b[39m, \u001b[38;5;124m'\u001b[39m\u001b[38;5;124mlegbye_runs\u001b[39m\u001b[38;5;124m'\u001b[39m, \u001b[38;5;124m'\u001b[39m\u001b[38;5;124mnoball_runs\u001b[39m\u001b[38;5;124m'\u001b[39m, \u001b[38;5;124m'\u001b[39m\u001b[38;5;124mpenalty_runs\u001b[39m\u001b[38;5;124m'\u001b[39m]\u001b[38;5;241m.\u001b[39msum()\u001b[38;5;241m.\u001b[39mmean(axis\u001b[38;5;241m=\u001b[39m\u001b[38;5;241m1\u001b[39m)\n",
      "File \u001b[1;32mC:\\ProgramData\\anaconda3\\Lib\\site-packages\\pandas\\core\\groupby\\generic.py:1767\u001b[0m, in \u001b[0;36mDataFrameGroupBy.__getitem__\u001b[1;34m(self, key)\u001b[0m\n\u001b[0;32m   1763\u001b[0m \u001b[38;5;66;03m# per GH 23566\u001b[39;00m\n\u001b[0;32m   1764\u001b[0m \u001b[38;5;28;01mif\u001b[39;00m \u001b[38;5;28misinstance\u001b[39m(key, \u001b[38;5;28mtuple\u001b[39m) \u001b[38;5;129;01mand\u001b[39;00m \u001b[38;5;28mlen\u001b[39m(key) \u001b[38;5;241m>\u001b[39m \u001b[38;5;241m1\u001b[39m:\n\u001b[0;32m   1765\u001b[0m     \u001b[38;5;66;03m# if len == 1, then it becomes a SeriesGroupBy and this is actually\u001b[39;00m\n\u001b[0;32m   1766\u001b[0m     \u001b[38;5;66;03m# valid syntax, so don't raise\u001b[39;00m\n\u001b[1;32m-> 1767\u001b[0m     \u001b[38;5;28;01mraise\u001b[39;00m \u001b[38;5;167;01mValueError\u001b[39;00m(\n\u001b[0;32m   1768\u001b[0m         \u001b[38;5;124m\"\u001b[39m\u001b[38;5;124mCannot subset columns with a tuple with more than one element. \u001b[39m\u001b[38;5;124m\"\u001b[39m\n\u001b[0;32m   1769\u001b[0m         \u001b[38;5;124m\"\u001b[39m\u001b[38;5;124mUse a list instead.\u001b[39m\u001b[38;5;124m\"\u001b[39m\n\u001b[0;32m   1770\u001b[0m     )\n\u001b[0;32m   1771\u001b[0m \u001b[38;5;28;01mreturn\u001b[39;00m \u001b[38;5;28msuper\u001b[39m()\u001b[38;5;241m.\u001b[39m\u001b[38;5;21m__getitem__\u001b[39m(key)\n",
      "\u001b[1;31mValueError\u001b[0m: Cannot subset columns with a tuple with more than one element. Use a list instead."
     ]
    }
   ],
   "source": [
    "#9. What is the average number of extras (wide runs,bye runs,legbye runs, noball runs, penalty runs)\n",
    "#   conceded per inning by each bowling team?\n",
    "\n",
    "# df.groupby(by='bowling_team')[['wide_runs','bye_runs', 'legbye_runs', 'noball_runs', 'penalty_runs']].sum()\n",
    "# df.groupby('bowling_team')['wide_runs','bye_runs', 'legbye_runs', 'noball_runs', 'penalty_runs'].sum().mean(axis=1)\n",
    "\n",
    "df.groupby('bowling_team')['wide_runs', 'bye_runs', 'legbye_runs', 'noball_runs', 'penalty_runs'].sum().mean(axis=1)"
   ]
  },
  {
   "cell_type": "code",
   "execution_count": 37,
   "id": "9c882695",
   "metadata": {},
   "outputs": [
    {
     "data": {
      "text/plain": [
       "batsman         bowler         \n",
       "A Ashish Reddy  A Nehra             7\n",
       "                AB Dinda            9\n",
       "                AD Mathews         25\n",
       "                AD Russell          4\n",
       "                Anureet Singh       2\n",
       "                                   ..\n",
       "Z Khan          SR Watson           3\n",
       "                Shakib Al Hasan     3\n",
       "                Sohail Tanvir       3\n",
       "                VRV Singh           0\n",
       "                YK Pathan           1\n",
       "Name: batsman_runs, Length: 17151, dtype: int64"
      ]
     },
     "execution_count": 37,
     "metadata": {},
     "output_type": "execute_result"
    }
   ],
   "source": [
    "#10. How many runs have been scored by each batsman-bowler pair?\n",
    "df.groupby(['batsman', 'bowler'])['batsman_runs'].sum()"
   ]
  },
  {
   "cell_type": "code",
   "execution_count": 43,
   "id": "72f4b677",
   "metadata": {},
   "outputs": [
    {
     "data": {
      "text/plain": [
       "dismissal_kind\n",
       "caught    4373\n",
       "Name: count, dtype: int64"
      ]
     },
     "execution_count": 43,
     "metadata": {},
     "output_type": "execute_result"
    }
   ],
   "source": [
    "#11. What is the most common dismissal kind?\n",
    "df.groupby(by='dismissal_kind')['dismissal_kind'].value_counts().sort_values(ascending=False).head(1)\n",
    "#df['dismissal_kind'].mode() #Answer\n"
   ]
  },
  {
   "cell_type": "code",
   "execution_count": 48,
   "id": "2d9e76e4",
   "metadata": {},
   "outputs": [
    {
     "data": {
      "text/plain": [
       "batting_team\n",
       "Chennai Super Kings            131\n",
       "Deccan Chargers                 75\n",
       "Delhi Daredevils               147\n",
       "Gujarat Lions                   30\n",
       "Kings XI Punjab                148\n",
       "Kochi Tuskers Kerala            14\n",
       "Kolkata Knight Riders          148\n",
       "Mumbai Indians                 157\n",
       "Pune Warriors                   45\n",
       "Rajasthan Royals               117\n",
       "Rising Pune Supergiant          16\n",
       "Rising Pune Supergiants         14\n",
       "Royal Challengers Bangalore    152\n",
       "Sunrisers Hyderabad             76\n",
       "Name: match_id, dtype: int64"
      ]
     },
     "execution_count": 48,
     "metadata": {},
     "output_type": "execute_result"
    }
   ],
   "source": [
    "#12. How many matches have been played by each batting team?\n",
    "#df.groupby(by='batting_team')['inning'].value_counts()\n",
    "df.groupby('batting_team')['match_id'].nunique()"
   ]
  },
  {
   "cell_type": "code",
   "execution_count": 50,
   "id": "40d4df01",
   "metadata": {},
   "outputs": [
    {
     "data": {
      "text/plain": [
       "over\n",
       "1     0.955635\n",
       "2     1.121601\n",
       "3     1.242057\n",
       "4     1.291698\n",
       "5     1.298832\n",
       "6     1.321933\n",
       "7     1.074869\n",
       "8     1.149635\n",
       "9     1.189325\n",
       "10    1.170981\n",
       "11    1.233177\n",
       "12    1.269347\n",
       "13    1.275509\n",
       "14    1.313694\n",
       "15    1.373206\n",
       "16    1.418031\n",
       "17    1.495300\n",
       "18    1.561685\n",
       "19    1.600031\n",
       "20    1.707736\n",
       "Name: total_runs, dtype: float64"
      ]
     },
     "execution_count": 50,
     "metadata": {},
     "output_type": "execute_result"
    }
   ],
   "source": [
    "#13. What is the average number of runs scored in each over?\n",
    "df.groupby(by='over')['total_runs'].mean()\n",
    "#df.groupby('over')['total_runs'].mean()"
   ]
  },
  {
   "cell_type": "code",
   "execution_count": 53,
   "id": "79463350",
   "metadata": {},
   "outputs": [
    {
     "data": {
      "text/plain": [
       "fielder\n",
       "KD Karthik    127\n",
       "dtype: int64"
      ]
     },
     "execution_count": 53,
     "metadata": {},
     "output_type": "execute_result"
    }
   ],
   "source": [
    "#14. Which fielder has been involved in the most dismissals?\n",
    "# df.groupby(by='fielder')['dismissal_kind'].value_counts().sort_values(ascending=False).head(1)\n",
    "df.groupby('fielder').size().nlargest(1)"
   ]
  },
  {
   "cell_type": "code",
   "execution_count": 56,
   "id": "58f027f9",
   "metadata": {
    "scrolled": true
   },
   "outputs": [
    {
     "data": {
      "image/png": "[encoded data removed]",
      "text/plain": [
       "<Figure size 640x480 with 1 Axes>"
      ]
     },
     "metadata": {},
     "output_type": "display_data"
    }
   ],
   "source": [
    "#15. How does the number of runs scored vary with the over number?\n",
    "plt.scatter(df['over'], df['total_runs'])\n",
    "plt.xlabel('Over Number')\n",
    "plt.ylabel('Runs Scored')\n",
    "plt.title('Runs scored vs Over Number')\n",
    "plt.show()"
   ]
  },
  {
   "cell_type": "code",
   "execution_count": 58,
   "id": "c2fa5d6e",
   "metadata": {},
   "outputs": [
    {
     "data": {
      "image/png": "[encoded data removed]",
      "text/plain": [
       "<Figure size 640x480 with 1 Axes>"
      ]
     },
     "metadata": {},
     "output_type": "display_data"
    }
   ],
   "source": [
    "#16. how is the relationship between the number of\n",
    "# runs scored and the number of extras conceded?\n",
    "plt.scatter(df['extra_runs'], df['total_runs'])\n",
    "plt.xlabel('Extra Runs')\n",
    "plt.ylabel('Total Runs')\n",
    "plt.title('Total Runs vs Extra Runs')\n",
    "plt.show()"
   ]
  },
  {
   "cell_type": "code",
   "execution_count": 59,
   "id": "8231b95a",
   "metadata": {},
   "outputs": [
    {
     "data": {
      "image/png": "[encoded data removed]",
      "text/plain": [
       "<Figure size 640x480 with 1 Axes>"
      ]
     },
     "metadata": {},
     "output_type": "display_data"
    }
   ],
   "source": [
    "#17. Are there any notable trends in the distribution of\n",
    "# runs scored by batting teams across innings?\n",
    "\n",
    "runs_distribution_across_innings = df.groupby(['inning', 'batting_team'])['total_runs'].mean().unstack().plot(kind='bar')\n",
    "plt.xlabel('Inning')\n",
    "plt.ylabel('Average Runs')\n",
    "plt.title('Average Runs scored by batting teams across innings')\n",
    "plt.show()"
   ]
  },
  {
   "cell_type": "code",
   "execution_count": 63,
   "id": "412bc72f",
   "metadata": {},
   "outputs": [
    {
     "data": {
      "text/plain": [
       "over\n",
       "1     266\n",
       "2     299\n",
       "3     321\n",
       "4     308\n",
       "5     331\n",
       "6     327\n",
       "7     264\n",
       "8     268\n",
       "9     307\n",
       "10    299\n",
       "11    320\n",
       "12    317\n",
       "13    314\n",
       "14    358\n",
       "15    372\n",
       "16    410\n",
       "17    451\n",
       "18    565\n",
       "19    586\n",
       "20    755\n",
       "dtype: int64"
      ]
     },
     "execution_count": 63,
     "metadata": {},
     "output_type": "execute_result"
    }
   ],
   "source": [
    "#18. Which batting team has the highest average runs per match?\n",
    "#df.groupby(by='batting_team')['total_runs'].sum().sort_values(ascending=False).head(1)\n",
    "\n",
    "df.groupby('over').apply(lambda x: x['dismissal_kind'].notnull().sum()) #Answer"
   ]
  },
  {
   "cell_type": "code",
   "execution_count": 66,
   "id": "c8c52b8c",
   "metadata": {},
   "outputs": [
    {
     "data": {
      "text/plain": [
       "batting_team\n",
       "Chennai Super Kings            131\n",
       "Deccan Chargers                 75\n",
       "Delhi Daredevils               147\n",
       "Gujarat Lions                   30\n",
       "Kings XI Punjab                148\n",
       "Kochi Tuskers Kerala            14\n",
       "Kolkata Knight Riders          148\n",
       "Mumbai Indians                 157\n",
       "Pune Warriors                   45\n",
       "Rajasthan Royals               117\n",
       "Rising Pune Supergiant          16\n",
       "Rising Pune Supergiants         14\n",
       "Royal Challengers Bangalore    152\n",
       "Sunrisers Hyderabad             76\n",
       "Name: match_id, dtype: int64"
      ]
     },
     "execution_count": 66,
     "metadata": {},
     "output_type": "execute_result"
    }
   ],
   "source": [
    "#19. What is the total runs scored by each batsman?\n",
    "# df.groupby(by='batsman')['batsman_runs'].sum().sort_values(ascending=False).head(1)\n",
    "\n",
    "#df.groupby('batting_team')['total_runs'].sum()\n",
    "df.groupby('batting_team')['match_id'].nunique()"
   ]
  },
  {
   "cell_type": "code",
   "execution_count": 67,
   "id": "eb270bd5",
   "metadata": {},
   "outputs": [
    {
     "data": {
      "text/plain": [
       "7"
      ]
     },
     "execution_count": 67,
     "metadata": {},
     "output_type": "execute_result"
    }
   ],
   "source": [
    "#20. How does the average number of runs scored per\n",
    "# inning vary across different bowling teams?\n",
    "df[df['is_super_over'] == 1]['match_id'].nunique()"
   ]
  },
  {
   "cell_type": "code",
   "execution_count": 68,
   "id": "acce5eb4",
   "metadata": {},
   "outputs": [
    {
     "data": {
      "text/plain": [
       "batsman\n",
       "A Ashish Reddy     288\n",
       "A Chandila           4\n",
       "A Chopra            58\n",
       "A Choudhary         25\n",
       "A Flintoff          72\n",
       "                  ... \n",
       "YV Takawale        207\n",
       "Yashpal Singh       49\n",
       "Younis Khan          3\n",
       "Yuvraj Singh      2710\n",
       "Z Khan             121\n",
       "Name: total_runs, Length: 461, dtype: int64"
      ]
     },
     "execution_count": 68,
     "metadata": {},
     "output_type": "execute_result"
    }
   ],
   "source": [
    "#21. how is the relationship between the number of\n",
    "# wides and the number of no balls bowled?\n",
    "df.groupby('batsman')['total_runs'].sum()"
   ]
  },
  {
   "cell_type": "code",
   "execution_count": 76,
   "id": "9912ee18",
   "metadata": {},
   "outputs": [
    {
     "data": {
      "text/plain": [
       "Series([], dtype: int64)"
      ]
     },
     "execution_count": 76,
     "metadata": {},
     "output_type": "execute_result"
    }
   ],
   "source": [
    "#22. Which batting team has the highest number of centuries?\n",
    "df[df['batsman_runs'] >= 100].groupby('batting_team').size()"
   ]
  },
  {
   "cell_type": "code",
   "execution_count": 75,
   "id": "268f8aba",
   "metadata": {},
   "outputs": [
    {
     "data": {
      "text/plain": [
       "over\n",
       "1     481\n",
       "2     442\n",
       "3     359\n",
       "4     295\n",
       "5     279\n",
       "6     307\n",
       "7     330\n",
       "8     261\n",
       "9     255\n",
       "10    227\n",
       "11    182\n",
       "12    220\n",
       "13    241\n",
       "14    224\n",
       "15    248\n",
       "16    254\n",
       "17    264\n",
       "18    271\n",
       "19    264\n",
       "20    238\n",
       "Name: wide_runs, dtype: int64"
      ]
     },
     "execution_count": 75,
     "metadata": {},
     "output_type": "execute_result"
    }
   ],
   "source": [
    "#23. How does the number of wides vary with the over number?\n",
    "df.groupby('over')['wide_runs'].sum()"
   ]
  },
  {
   "cell_type": "code",
   "execution_count": 74,
   "id": "e5ecfcb2",
   "metadata": {},
   "outputs": [
    {
     "data": {
      "text/plain": [
       "batting_team\n",
       "Chennai Super Kings            1.800000\n",
       "Delhi Daredevils               1.833333\n",
       "Gujarat Lions                  0.750000\n",
       "Kings XI Punjab                2.272727\n",
       "Kolkata Knight Riders          2.000000\n",
       "Mumbai Indians                 2.200000\n",
       "Rajasthan Royals               2.500000\n",
       "Royal Challengers Bangalore    2.500000\n",
       "Sunrisers Hyderabad            2.857143\n",
       "Name: total_runs, dtype: float64"
      ]
     },
     "execution_count": 74,
     "metadata": {},
     "output_type": "execute_result"
    }
   ],
   "source": [
    "#24. What is the average number of runs scored per inning in matches with a super over?\n",
    "df[df['is_super_over'] == 1].groupby('batting_team')['total_runs'].mean()"
   ]
  },
  {
   "cell_type": "code",
   "execution_count": 6,
   "id": "40653c3f",
   "metadata": {},
   "outputs": [
    {
     "ename": "ValueError",
     "evalue": "Cannot subset columns with a tuple with more than one element. Use a list instead.",
     "output_type": "error",
     "traceback": [
      "\u001b[1;31m---------------------------------------------------------------------------\u001b[0m",
      "\u001b[1;31mValueError\u001b[0m                                Traceback (most recent call last)",
      "Cell \u001b[1;32mIn[6], line 2\u001b[0m\n\u001b[0;32m      1\u001b[0m \u001b[38;5;66;03m#25. How does the number of extras vary with the over number?\u001b[39;00m\n\u001b[1;32m----> 2\u001b[0m df\u001b[38;5;241m.\u001b[39mgroupby(\u001b[38;5;124m'\u001b[39m\u001b[38;5;124mover\u001b[39m\u001b[38;5;124m'\u001b[39m)[\u001b[38;5;124m'\u001b[39m\u001b[38;5;124mwide_runs\u001b[39m\u001b[38;5;124m'\u001b[39m, \u001b[38;5;124m'\u001b[39m\u001b[38;5;124mbye_runs\u001b[39m\u001b[38;5;124m'\u001b[39m, \u001b[38;5;124m'\u001b[39m\u001b[38;5;124mlegbye_runs\u001b[39m\u001b[38;5;124m'\u001b[39m, \u001b[38;5;124m'\u001b[39m\u001b[38;5;124mnoball_runs\u001b[39m\u001b[38;5;124m'\u001b[39m, \u001b[38;5;124m'\u001b[39m\u001b[38;5;124mpenalty_runs\u001b[39m\u001b[38;5;124m'\u001b[39m]\u001b[38;5;241m.\u001b[39msum()\u001b[38;5;241m.\u001b[39msum(axis\u001b[38;5;241m=\u001b[39m\u001b[38;5;241m1\u001b[39m)\n",
      "File \u001b[1;32mC:\\ProgramData\\anaconda3\\Lib\\site-packages\\pandas\\core\\groupby\\generic.py:1767\u001b[0m, in \u001b[0;36mDataFrameGroupBy.__getitem__\u001b[1;34m(self, key)\u001b[0m\n\u001b[0;32m   1763\u001b[0m \u001b[38;5;66;03m# per GH 23566\u001b[39;00m\n\u001b[0;32m   1764\u001b[0m \u001b[38;5;28;01mif\u001b[39;00m \u001b[38;5;28misinstance\u001b[39m(key, \u001b[38;5;28mtuple\u001b[39m) \u001b[38;5;129;01mand\u001b[39;00m \u001b[38;5;28mlen\u001b[39m(key) \u001b[38;5;241m>\u001b[39m \u001b[38;5;241m1\u001b[39m:\n\u001b[0;32m   1765\u001b[0m     \u001b[38;5;66;03m# if len == 1, then it becomes a SeriesGroupBy and this is actually\u001b[39;00m\n\u001b[0;32m   1766\u001b[0m     \u001b[38;5;66;03m# valid syntax, so don't raise\u001b[39;00m\n\u001b[1;32m-> 1767\u001b[0m     \u001b[38;5;28;01mraise\u001b[39;00m \u001b[38;5;167;01mValueError\u001b[39;00m(\n\u001b[0;32m   1768\u001b[0m         \u001b[38;5;124m\"\u001b[39m\u001b[38;5;124mCannot subset columns with a tuple with more than one element. \u001b[39m\u001b[38;5;124m\"\u001b[39m\n\u001b[0;32m   1769\u001b[0m         \u001b[38;5;124m\"\u001b[39m\u001b[38;5;124mUse a list instead.\u001b[39m\u001b[38;5;124m\"\u001b[39m\n\u001b[0;32m   1770\u001b[0m     )\n\u001b[0;32m   1771\u001b[0m \u001b[38;5;28;01mreturn\u001b[39;00m \u001b[38;5;28msuper\u001b[39m()\u001b[38;5;241m.\u001b[39m\u001b[38;5;21m__getitem__\u001b[39m(key)\n",
      "\u001b[1;31mValueError\u001b[0m: Cannot subset columns with a tuple with more than one element. Use a list instead."
     ]
    }
   ],
   "source": [
    "#25. How does the number of extras vary with the over number?\n",
    "df.groupby('over')['wide_runs', 'bye_runs', 'legbye_runs', 'noball_runs', 'penalty_runs'].sum().sum(axis=1)"
   ]
  },
  {
   "cell_type": "code",
   "execution_count": 70,
   "id": "1e3ed1b5",
   "metadata": {},
   "outputs": [
    {
     "data": {
      "text/plain": [
       "bowler\n",
       "I Malhotra      3.833333\n",
       "LPC Silva       3.500000\n",
       "B Chipli        3.333333\n",
       "V Shankar       3.166667\n",
       "P Prasanth      3.000000\n",
       "                  ...   \n",
       "AM Rahane       0.833333\n",
       "Sachin Baby     0.800000\n",
       "NB Singh        0.720000\n",
       "N Rana          0.500000\n",
       "AC Gilchrist    0.000000\n",
       "Length: 356, dtype: float64"
      ]
     },
     "execution_count": 70,
     "metadata": {},
     "output_type": "execute_result"
    }
   ],
   "source": [
    "#26. Which bowler has the highest economy rate?\n",
    "df.groupby('bowler').apply(lambda x: x['total_runs'].sum() / len(x)).sort_values(ascending=False)"
   ]
  },
  {
   "cell_type": "code",
   "execution_count": 71,
   "id": "dbe5fcc0",
   "metadata": {},
   "outputs": [
    {
     "data": {
      "text/plain": [
       "dismissal_kind\n",
       "bowled                   1382\n",
       "caught                   4373\n",
       "caught and bowled         211\n",
       "hit wicket                  9\n",
       "lbw                       455\n",
       "obstructing the field       1\n",
       "retired hurt                9\n",
       "run out                   755\n",
       "stumped                   243\n",
       "dtype: int64"
      ]
     },
     "execution_count": 71,
     "metadata": {},
     "output_type": "execute_result"
    }
   ],
   "source": [
    "#27. How does the number of dismissals vary across different dismissal kinds?\n",
    "df.groupby('dismissal_kind').size()"
   ]
  },
  {
   "cell_type": "code",
   "execution_count": 72,
   "id": "0808cc03",
   "metadata": {},
   "outputs": [
    {
     "data": {
      "text/plain": [
       "batting_team\n",
       "Chennai Super Kings             9\n",
       "Delhi Daredevils               11\n",
       "Gujarat Lions                   6\n",
       "Kings XI Punjab                25\n",
       "Kolkata Knight Riders          26\n",
       "Mumbai Indians                 11\n",
       "Rajasthan Royals               35\n",
       "Royal Challengers Bangalore    30\n",
       "Sunrisers Hyderabad            20\n",
       "Name: total_runs, dtype: int64"
      ]
     },
     "execution_count": 72,
     "metadata": {},
     "output_type": "execute_result"
    }
   ],
   "source": [
    "#28. What is the distribution of runs scored by each batting team in super overs?\n",
    "df[df['is_super_over'] == 1].groupby('batting_team')['total_runs'].sum()"
   ]
  },
  {
   "cell_type": "code",
   "execution_count": 77,
   "id": "b6d1e809",
   "metadata": {},
   "outputs": [
    {
     "data": {
      "image/png": "[encoded data removed]",
      "text/plain": [
       "<Figure size 640x480 with 1 Axes>"
      ]
     },
     "metadata": {},
     "output_type": "display_data"
    }
   ],
   "source": [
    "plt.scatter(df['wide_runs'], df['noball_runs'])\n",
    "plt.xlabel('Wide Runs')\n",
    "plt.ylabel('No Ball Runs')\n",
    "plt.title('Wide Runs vs No Ball Runs')\n",
    "plt.show()"
   ]
  },
  {
   "cell_type": "code",
   "execution_count": null,
   "id": "93ab72b3",
   "metadata": {},
   "outputs": [],
   "source": []
  }
 ],
 "metadata": {
  "kernelspec": {
   "display_name": "Python 3 (ipykernel)",
   "language": "python",
   "name": "python3"
  },
  "language_info": {
   "codemirror_mode": {
    "name": "ipython",
    "version": 3
   },
   "file_extension": ".py",
   "mimetype": "text/x-python",
   "name": "python",
   "nbconvert_exporter": "python",
   "pygments_lexer": "ipython3",
   "version": "3.11.5"
  }
 },
 "nbformat": 4,
 "nbformat_minor": 5
}
